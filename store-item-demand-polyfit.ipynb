{
 "cells": [
  {
   "cell_type": "code",
   "execution_count": 1,
   "id": "2d77c01b",
   "metadata": {
    "_cell_guid": "b1076dfc-b9ad-4769-8c92-a6c4dae69d19",
    "_uuid": "8f2839f25d086af736a60e9eeb907d3b93b6e0e5",
    "execution": {
     "iopub.execute_input": "2022-11-11T09:17:13.070273Z",
     "iopub.status.busy": "2022-11-11T09:17:13.068706Z",
     "iopub.status.idle": "2022-11-11T09:17:13.087431Z",
     "shell.execute_reply": "2022-11-11T09:17:13.088434Z",
     "shell.execute_reply.started": "2022-11-11T08:29:10.159701Z"
    },
    "papermill": {
     "duration": 0.035554,
     "end_time": "2022-11-11T09:17:13.089005",
     "exception": false,
     "start_time": "2022-11-11T09:17:13.053451",
     "status": "completed"
    },
    "tags": []
   },
   "outputs": [
    {
     "name": "stdout",
     "output_type": "stream",
     "text": [
      "/kaggle/input/demand-forecasting-kernels-only/sample_submission.csv\n",
      "/kaggle/input/demand-forecasting-kernels-only/train.csv\n",
      "/kaggle/input/demand-forecasting-kernels-only/test.csv\n"
     ]
    }
   ],
   "source": [
    "# This Python 3 environment comes with many helpful analytics libraries installed\n",
    "# It is defined by the kaggle/python Docker image: https://github.com/kaggle/docker-python\n",
    "# For example, here's several helpful packages to load\n",
    "\n",
    "import numpy as np # linear algebra\n",
    "import pandas as pd # data processing, CSV file I/O (e.g. pd.read_csv)\n",
    "\n",
    "# Input data files are available in the read-only \"../input/\" directory\n",
    "# For example, running this (by clicking run or pressing Shift+Enter) will list all files under the input directory\n",
    "\n",
    "import os\n",
    "for dirname, _, filenames in os.walk('/kaggle/input'):\n",
    "    for filename in filenames:\n",
    "        print(os.path.join(dirname, filename))\n",
    "\n",
    "# You can write up to 20GB to the current directory (/kaggle/working/) that gets preserved as output when you create a version using \"Save & Run All\" \n",
    "# You can also write temporary files to /kaggle/temp/, but they won't be saved outside of the current session"
   ]
  },
  {
   "cell_type": "code",
   "execution_count": 2,
   "id": "5d086553",
   "metadata": {
    "execution": {
     "iopub.execute_input": "2022-11-11T09:17:13.116629Z",
     "iopub.status.busy": "2022-11-11T09:17:13.115744Z",
     "iopub.status.idle": "2022-11-11T09:17:14.410686Z",
     "shell.execute_reply": "2022-11-11T09:17:14.410093Z",
     "shell.execute_reply.started": "2022-11-11T08:41:25.858571Z"
    },
    "papermill": {
     "duration": 1.312209,
     "end_time": "2022-11-11T09:17:14.410855",
     "exception": false,
     "start_time": "2022-11-11T09:17:13.098646",
     "status": "completed"
    },
    "tags": []
   },
   "outputs": [
    {
     "data": {
      "text/html": [
       "<div>\n",
       "<style scoped>\n",
       "    .dataframe tbody tr th:only-of-type {\n",
       "        vertical-align: middle;\n",
       "    }\n",
       "\n",
       "    .dataframe tbody tr th {\n",
       "        vertical-align: top;\n",
       "    }\n",
       "\n",
       "    .dataframe thead th {\n",
       "        text-align: right;\n",
       "    }\n",
       "</style>\n",
       "<table border=\"1\" class=\"dataframe\">\n",
       "  <thead>\n",
       "    <tr style=\"text-align: right;\">\n",
       "      <th></th>\n",
       "      <th>sales</th>\n",
       "    </tr>\n",
       "    <tr>\n",
       "      <th>year</th>\n",
       "      <th></th>\n",
       "    </tr>\n",
       "  </thead>\n",
       "  <tbody>\n",
       "    <tr>\n",
       "      <th>2013</th>\n",
       "      <td>0.832793</td>\n",
       "    </tr>\n",
       "    <tr>\n",
       "      <th>2014</th>\n",
       "      <td>0.958032</td>\n",
       "    </tr>\n",
       "    <tr>\n",
       "      <th>2015</th>\n",
       "      <td>1.000127</td>\n",
       "    </tr>\n",
       "    <tr>\n",
       "      <th>2016</th>\n",
       "      <td>1.083181</td>\n",
       "    </tr>\n",
       "    <tr>\n",
       "      <th>2017</th>\n",
       "      <td>1.125640</td>\n",
       "    </tr>\n",
       "  </tbody>\n",
       "</table>\n",
       "</div>"
      ],
      "text/plain": [
       "         sales\n",
       "year          \n",
       "2013  0.832793\n",
       "2014  0.958032\n",
       "2015  1.000127\n",
       "2016  1.083181\n",
       "2017  1.125640"
      ]
     },
     "execution_count": 2,
     "metadata": {},
     "output_type": "execute_result"
    }
   ],
   "source": [
    "train = pd.read_csv('/kaggle/input/demand-forecasting-kernels-only/train.csv') # 2013 01 - 2017 12\n",
    "test = pd.read_csv('/kaggle/input/demand-forecasting-kernels-only/test.csv')  # 2018 01-03\n",
    "\n",
    "\n",
    "def dmy_sep_dayofweek(df):\n",
    "    df['date'] = pd.to_datetime(df.date, format=\"%Y-%m-%d\")\n",
    "    df['day'] = df.date.dt.day\n",
    "    df['month'] = df.date.dt.month\n",
    "    df['year'] = df.date.dt.year\n",
    "    df['day_of_week'] = df.date.dt.dayofweek  # Mon:0, Sun: 6\n",
    "    return df\n",
    "    \n",
    "train = dmy_sep_dayofweek(train)\n",
    "test = dmy_sep_dayofweek(test)\n",
    "\n",
    "\n",
    "# relative sales ('smoother' to predict)\n",
    "# Yearly growth pattern -> predict the next pt in curve\n",
    "sales_avg = train.sales.mean()\n",
    "rel_sales_byYear = pd.pivot_table(train, index='year', values='sales', aggfunc=np.mean)\n",
    "rel_sales_byYear /= sales_avg\n",
    "rel_sales_byYear\n"
   ]
  },
  {
   "cell_type": "code",
   "execution_count": 3,
   "id": "0e1821ea",
   "metadata": {
    "execution": {
     "iopub.execute_input": "2022-11-11T09:17:14.433767Z",
     "iopub.status.busy": "2022-11-11T09:17:14.432990Z",
     "iopub.status.idle": "2022-11-11T09:17:14.435872Z",
     "shell.execute_reply": "2022-11-11T09:17:14.436369Z",
     "shell.execute_reply.started": "2022-11-11T08:56:14.501074Z"
    },
    "papermill": {
     "duration": 0.018238,
     "end_time": "2022-11-11T09:17:14.436535",
     "exception": false,
     "start_time": "2022-11-11T09:17:14.418297",
     "status": "completed"
    },
    "tags": []
   },
   "outputs": [
    {
     "data": {
      "text/plain": [
       "array([0.83279275, 0.95803178, 1.00012685, 1.08318071, 1.12564001])"
      ]
     },
     "execution_count": 3,
     "metadata": {},
     "output_type": "execute_result"
    }
   ],
   "source": [
    "rel_sales_year = rel_sales_byYear.values.squeeze()\n",
    "rel_sales_year"
   ]
  },
  {
   "cell_type": "code",
   "execution_count": 4,
   "id": "828410dd",
   "metadata": {
    "execution": {
     "iopub.execute_input": "2022-11-11T09:17:14.455585Z",
     "iopub.status.busy": "2022-11-11T09:17:14.454833Z",
     "iopub.status.idle": "2022-11-11T09:17:14.477258Z",
     "shell.execute_reply": "2022-11-11T09:17:14.476568Z",
     "shell.execute_reply.started": "2022-11-11T08:59:46.200692Z"
    },
    "papermill": {
     "duration": 0.033316,
     "end_time": "2022-11-11T09:17:14.477405",
     "exception": false,
     "start_time": "2022-11-11T09:17:14.444089",
     "status": "completed"
    },
    "tags": []
   },
   "outputs": [
    {
     "name": "stdout",
     "output_type": "stream",
     "text": [
      "2018 Relative Sales by Weighted Fit = 1.1583199177148344\n"
     ]
    }
   ],
   "source": [
    "degree=2\n",
    "factor=4\n",
    "\n",
    "years = np.arange(2013, 2018)\n",
    "weights = np.exp((years - 2018)/factor)\n",
    "\n",
    "polyfit_on_year = np.poly1d(np.polyfit(years, rel_sales_year, degree, w=weights))\n",
    "print(f\"2018 Relative Sales by Weighted Fit = {polyfit_on_year(2018)}\")"
   ]
  },
  {
   "cell_type": "code",
   "execution_count": 5,
   "id": "43a269b8",
   "metadata": {
    "execution": {
     "iopub.execute_input": "2022-11-11T09:17:14.503405Z",
     "iopub.status.busy": "2022-11-11T09:17:14.502413Z",
     "iopub.status.idle": "2022-11-11T09:17:14.773094Z",
     "shell.execute_reply": "2022-11-11T09:17:14.772429Z",
     "shell.execute_reply.started": "2022-11-11T08:59:47.019622Z"
    },
    "papermill": {
     "duration": 0.287843,
     "end_time": "2022-11-11T09:17:14.773261",
     "exception": false,
     "start_time": "2022-11-11T09:17:14.485418",
     "status": "completed"
    },
    "tags": []
   },
   "outputs": [
    {
     "data": {
      "text/plain": [
       "Text(0.5, 0, 'Year')"
      ]
     },
     "execution_count": 5,
     "metadata": {},
     "output_type": "execute_result"
    },
    {
     "data": {
      "image/png": "[encoded data removed]",
      "text/plain": [
       "<Figure size 576x360 with 1 Axes>"
      ]
     },
     "metadata": {
      "needs_background": "light"
     },
     "output_type": "display_data"
    }
   ],
   "source": [
    "import matplotlib.pyplot as plt\n",
    "\n",
    "plt.figure(figsize=(8,5))\n",
    "plt.plot(range(2013,2018), rel_sales_year, 'bo')\n",
    "plt.plot(range(2013,2019), polyfit_on_year(range(2013,2019)))\n",
    "plt.ylabel(\"Relative Sales\")\n",
    "plt.xlabel(\"Year\")"
   ]
  },
  {
   "cell_type": "code",
   "execution_count": 6,
   "id": "c6b488b5",
   "metadata": {
    "execution": {
     "iopub.execute_input": "2022-11-11T09:17:14.795936Z",
     "iopub.status.busy": "2022-11-11T09:17:14.794980Z",
     "iopub.status.idle": "2022-11-11T09:17:48.597159Z",
     "shell.execute_reply": "2022-11-11T09:17:48.597724Z",
     "shell.execute_reply.started": "2022-11-11T08:40:11.828061Z"
    },
    "papermill": {
     "duration": 33.815398,
     "end_time": "2022-11-11T09:17:48.597930",
     "exception": false,
     "start_time": "2022-11-11T09:17:14.782532",
     "status": "completed"
    },
    "tags": []
   },
   "outputs": [],
   "source": [
    "#test set are all in 2018\n",
    "rel_sales2018 = round(polyfit_on_year(2018), 5)\n",
    "\n",
    "# instead of prediction, multiply past sales by factors\n",
    "# 1. base sales day of week-item\n",
    "# 2. day of week>year>month>item factors\n",
    "base_sales_ref = pd.pivot_table(train, index='day_of_week', columns='item', values='sales',aggfunc=np.mean)\n",
    "monthly_relSales = pd.pivot_table(train, index='month', values='sales',aggfunc=np.mean)\n",
    "monthly_relSales.sales /= sales_avg\n",
    "store_relSales = pd.pivot_table(train, index='store', values='sales',aggfunc=np.mean)\n",
    "store_relSales.sales /= sales_avg\n",
    "\n",
    "submission = pd.DataFrame(test['id'])\n",
    "submission['sales'] = np.nan\n",
    "\n",
    "for _, row in test.iterrows():\n",
    "    dayofweek, month, year, item, store = row.day_of_week, row.month, row.year, row['item'], row.store\n",
    "    base_sales = base_sales_ref.loc[dayofweek, item]\n",
    "    monthFactor = monthly_relSales.loc[month]\n",
    "    storeFactor = store_relSales.loc[store]\n",
    "    pred_sales = base_sales * monthFactor * storeFactor * rel_sales2018\n",
    "    submission.at[row['id'], 'sales'] = pred_sales\n",
    "    \n",
    "\n",
    "submission['sales'] = np.round(submission['sales']).astype(int)\n",
    "submission.to_csv('submission.csv', index=False)"
   ]
  },
  {
   "cell_type": "code",
   "execution_count": null,
   "id": "5f58ed4c",
   "metadata": {
    "papermill": {
     "duration": 0.008793,
     "end_time": "2022-11-11T09:17:48.616395",
     "exception": false,
     "start_time": "2022-11-11T09:17:48.607602",
     "status": "completed"
    },
    "tags": []
   },
   "outputs": [],
   "source": []
  }
 ],
 "metadata": {
  "kernelspec": {
   "display_name": "Python 3",
   "language": "python",
   "name": "python3"
  },
  "language_info": {
   "codemirror_mode": {
    "name": "ipython",
    "version": 3
   },
   "file_extension": ".py",
   "mimetype": "text/x-python",
   "name": "python",
   "nbconvert_exporter": "python",
   "pygments_lexer": "ipython3",
   "version": "3.7.10"
  },
  "papermill": {
   "default_parameters": {},
   "duration": 45.973026,
   "end_time": "2022-11-11T09:17:49.237325",
   "environment_variables": {},
   "exception": null,
   "input_path": "__notebook__.ipynb",
   "output_path": "__notebook__.ipynb",
   "parameters": {},
   "start_time": "2022-11-11T09:17:03.264299",
   "version": "2.3.3"
  }
 },
 "nbformat": 4,
 "nbformat_minor": 5
}
